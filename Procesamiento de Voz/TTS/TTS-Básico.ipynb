{
 "cells": [
  {
   "cell_type": "markdown",
   "metadata": {},
   "source": [
    "▶ VER el siguiente VÍDEO explicativo para entender mejor el código:\n",
    "https://www.youtube.com/watch?v=NGSjwWrE-6A\n",
    "\n",
    "▶ SUSCRÍBETE al canal XPIKUOS de YOUTUBE y DALE a la CAMPANITA para estar informado de las novedades:\n",
    "https://www.youtube.com/c/Xpikuos?sub_confirmation=1"
   ]
  },
  {
   "cell_type": "code",
   "execution_count": null,
   "metadata": {},
   "outputs": [],
   "source": [
    "#EJEMPLO BÁSICO DE CONVERSIÓN DE TEXTO A VOZ (TTS)\n",
    "#https://pysoundfile.readthedocs.io/en/0.9.0/\n",
    "#Trozos de código interesantes para trocear un fichero de audio y otras cosas...: https://pypi.org/project/SoundFile/\n",
    "#Más información: https://media.readthedocs.org/pdf/gtts/latest/gtts.pdf"
   ]
  },
  {
   "cell_type": "code",
   "execution_count": null,
   "metadata": {},
   "outputs": [],
   "source": [
    "#Importar librerías\n",
    "import pygame\n",
    "import pyworld as pw\n",
    "from gtts import gTTS\n",
    "from tempfile import TemporaryFile\n",
    "from pygame import mixer"
   ]
  },
  {
   "cell_type": "code",
   "execution_count": null,
   "metadata": {},
   "outputs": [],
   "source": [
    "tts = gTTS(text='Hola. ¿Cómo estás?', lang='es')\n",
    "ficheroMP3='C:\\\\IA\\\\tts.mp3'\n",
    "tts.save(ficheroMP3)"
   ]
  },
  {
   "cell_type": "code",
   "execution_count": null,
   "metadata": {},
   "outputs": [],
   "source": [
    "mixer.init()\n",
    "mixer.music.load(ficheroMP3)\n",
    "print(\"Reproduciendo {0}\".format(ficheroMP3))\n",
    "mixer.music.play()\n",
    "while mixer.music.get_busy(): \n",
    "    pygame.time.Clock().tick(10)\n",
    "mixer.quit()"
   ]
  }
 ],
 "metadata": {
  "kernelspec": {
   "display_name": "Python 3",
   "language": "python",
   "name": "python3"
  },
  "language_info": {
   "codemirror_mode": {
    "name": "ipython",
    "version": 3
   },
   "file_extension": ".py",
   "mimetype": "text/x-python",
   "name": "python",
   "nbconvert_exporter": "python",
   "pygments_lexer": "ipython3",
   "version": "3.5.4"
  }
 },
 "nbformat": 4,
 "nbformat_minor": 2
}
